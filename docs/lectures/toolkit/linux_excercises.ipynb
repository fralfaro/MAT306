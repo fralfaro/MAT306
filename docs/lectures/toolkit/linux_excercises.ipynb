{
  "cells": [
    {
      "cell_type": "markdown",
      "metadata": {
        "id": "J67EV9X-l0tf"
      },
      "source": [
        "<a href=\"https://colab.research.google.com/github/fralfaro/MAT281/blob/main/docs/lectures/toolkit/linux_excercises.ipynb\" target=\"_parent\"><img src=\"https://colab.research.google.com/assets/colab-badge.svg\" alt=\"Open In Colab\"/></a>\n",
        "\n",
        "# Ejercicios\n",
        "\n",
        "> 🔧 **Nota**: Antes de comenzar con los ejercicios, asegúrate de ejecutar el siguiente script para crear los archivos y directorios de prueba:"
      ]
    },
    {
      "cell_type": "code",
      "execution_count": 1,
      "metadata": {
        "colab": {
          "base_uri": "https://localhost:8080/"
        },
        "id": "a-GDyjtbk2I2",
        "outputId": "1dd0892f-3acb-46b3-d3ff-7993a8fed2e5"
      },
      "outputs": [
        {
          "name": "stdout",
          "output_type": "stream",
          "text": [
            "Writing setup.sh\n"
          ]
        }
      ],
      "source": [
        "# Crear el script bash\n",
        "%%writefile setup.sh\n",
        "\n",
        "#!/bin/bash\n",
        "\n",
        "# Crear directorios de prueba\n",
        "mkdir -p prueba/backup\n",
        "mkdir -p prueba/logs\n",
        "mkdir -p prueba/documentos\n",
        "\n",
        "# Crear archivos de texto\n",
        "echo \"Este es un archivo de ejemplo.\" > prueba/documentos/archivo1.txt\n",
        "echo \"Otro archivo de prueba.\" > prueba/documentos/archivo2.txt\n",
        "echo \"Contiene la palabra error.\" > prueba/logs/log1.log\n",
        "echo \"Log sin errores.\" > prueba/logs/log2.log\n",
        "echo \"Más errores en el sistema.\" > prueba/logs/log3.log\n",
        "\n",
        "# Crear archivos vacíos para pruebas\n",
        "touch prueba/documentos/vacio.txt\n",
        "touch prueba/logs/vacio.log\n",
        "\n",
        "# Crear un archivo con varias líneas para contar\n",
        "cat <<EOL > prueba/documentos/multilinea.txt\n",
        "Línea 1\n",
        "Línea 2\n",
        "Línea 3\n",
        "Línea 4\n",
        "Línea 5\n",
        "EOL\n",
        "\n",
        "# Crear archivos con diferentes extensiones\n",
        "touch prueba/documentos/imagen.jpg prueba/documentos/datos.csv prueba/documentos/script.sh\n",
        "\n",
        "# Asignar permisos a uno de los archivos para probar chmod\n",
        "chmod 600 prueba/documentos/archivo1.txt\n",
        "\n",
        "# Crear un archivo para pruebas de lectura\n",
        "echo \"Prueba de lectura y escritura.\" > prueba/documentos/lectura.txt\n",
        "\n",
        "# Crear un archivo antiguo (simulando un archivo viejo de más de 7 días)\n",
        "touch -d \"10 days ago\" prueba/logs/antiguo.log\n",
        "\n",
        "echo \"Archivos y directorios de prueba creados exitosamente.\"\n"
      ]
    },
    {
      "cell_type": "code",
      "execution_count": 3,
      "metadata": {
        "colab": {
          "base_uri": "https://localhost:8080/"
        },
        "id": "0zswaEitk6yJ",
        "outputId": "c1972792-d84d-4b76-ae91-6226a4c7f1f6"
      },
      "outputs": [
        {
          "name": "stdout",
          "output_type": "stream",
          "text": [
            "Archivos y directorios de prueba creados exitosamente.\n"
          ]
        }
      ],
      "source": [
        "!chmod +x setup.sh\n",
        "!./setup.sh"
      ]
    },
    {
      "cell_type": "markdown",
      "metadata": {
        "id": "n2BdscxGmQmh"
      },
      "source": [
        "##  Comandos Linux (CLI)"
      ]
    },
    {
      "cell_type": "markdown",
      "metadata": {
        "id": "FFr3N8aYmUR0"
      },
      "source": [
        "1. **Listar Archivos Detalladamente**  \n",
        "   - **Objetivo:** Mostrar una lista detallada de archivos, visualizando permisos, tamaños y fechas de modificación.  "
      ]
    },
    {
      "cell_type": "code",
      "execution_count": 6,
      "metadata": {
        "colab": {
          "base_uri": "https://localhost:8080/"
        },
        "id": "UB0xFJxtmeut",
        "outputId": "659d3698-701c-44bc-e4c7-990d0c4b3b13"
      },
      "outputs": [
        {
          "name": "stdout",
          "output_type": "stream",
          "text": [
            "total 16\n",
            "-rw------- 1 root root 31 Mar 15 11:37 archivo1.txt\n",
            "-rw-r--r-- 1 root root 24 Mar 15 11:37 archivo2.txt\n",
            "-rw-r--r-- 1 root root  0 Mar 15 11:37 datos.csv\n",
            "-rw-r--r-- 1 root root  0 Mar 15 11:37 imagen.jpg\n",
            "-rw-r--r-- 1 root root 31 Mar 15 11:37 lectura.txt\n",
            "-rw-r--r-- 1 root root 45 Mar 15 11:37 multilinea.txt\n",
            "-rw-r--r-- 1 root root  0 Mar 15 11:37 script.sh\n",
            "-rw-r--r-- 1 root root  0 Mar 15 11:37 vacio.txt\n"
          ]
        }
      ],
      "source": [
        "!ls -l prueba/documentos"
      ]
    },
    {
      "cell_type": "markdown",
      "metadata": {
        "id": "RrO4x2hkmUPW"
      },
      "source": [
        "\n",
        "2. **Buscar Archivos por Extensión**  \n",
        "   - **Objetivo:** Localizar todos los archivos con extensión `.txt` dentro del directorio `prueba`.  \n",
        "\n"
      ]
    },
    {
      "cell_type": "code",
      "execution_count": 7,
      "metadata": {
        "colab": {
          "base_uri": "https://localhost:8080/"
        },
        "id": "0aSGWgdMmvkw",
        "outputId": "9f4ab3a8-d4a2-4d38-ccec-7861ef86edd4"
      },
      "outputs": [
        {
          "name": "stdout",
          "output_type": "stream",
          "text": [
            "prueba/documentos/archivo1.txt\n",
            "prueba/documentos/multilinea.txt\n",
            "prueba/documentos/archivo2.txt\n",
            "prueba/documentos/lectura.txt\n",
            "prueba/documentos/vacio.txt\n"
          ]
        }
      ],
      "source": [
        "!find prueba -name \"*.txt\""
      ]
    },
    {
      "cell_type": "markdown",
      "metadata": {
        "id": "g97Y_djimt3x"
      },
      "source": [
        "3. **Contar Líneas de un Archivo**  \n",
        "   - **Objetivo:** Contar cuántas líneas contiene el archivo `multilinea.txt`.  \n",
        "\n",
        "\n"
      ]
    },
    {
      "cell_type": "code",
      "execution_count": 8,
      "metadata": {
        "colab": {
          "base_uri": "https://localhost:8080/"
        },
        "id": "0rArs8oBnX9q",
        "outputId": "7fda0a08-feb9-4461-e80f-5d25ab0c60b2"
      },
      "outputs": [
        {
          "name": "stdout",
          "output_type": "stream",
          "text": [
            "5 prueba/documentos/multilinea.txt\n"
          ]
        }
      ],
      "source": [
        "!wc -l prueba/documentos/multilinea.txt"
      ]
    },
    {
      "cell_type": "markdown",
      "metadata": {
        "id": "YFn2OXjhm2Cb"
      },
      "source": [
        "\n",
        "\n",
        "4. **Mostrar Espacio Disponible**  \n",
        "   - **Objetivo:** Visualizar el espacio disponible en disco en un formato legible.  \n",
        "\n"
      ]
    },
    {
      "cell_type": "code",
      "execution_count": 9,
      "metadata": {
        "colab": {
          "base_uri": "https://localhost:8080/"
        },
        "id": "CmoUQ9LnncCo",
        "outputId": "f4959d1b-c16e-4c87-9345-22c76e36f593"
      },
      "outputs": [
        {
          "name": "stdout",
          "output_type": "stream",
          "text": [
            "Filesystem      Size  Used Avail Use% Mounted on\n",
            "overlay         108G   37G   71G  35% /\n",
            "tmpfs            64M     0   64M   0% /dev\n",
            "shm             5.8G     0  5.8G   0% /dev/shm\n",
            "/dev/root       2.0G  1.2G  820M  59% /usr/sbin/docker-init\n",
            "tmpfs           6.4G  4.4M  6.4G   1% /var/colab\n",
            "/dev/sda1        85G   65G   20G  77% /kaggle/input\n",
            "tmpfs           6.4G     0  6.4G   0% /proc/acpi\n",
            "tmpfs           6.4G     0  6.4G   0% /proc/scsi\n",
            "tmpfs           6.4G     0  6.4G   0% /sys/firmware\n"
          ]
        }
      ],
      "source": [
        "!df -h"
      ]
    },
    {
      "cell_type": "markdown",
      "metadata": {
        "id": "APMHT9Ykm4Di"
      },
      "source": [
        "\n",
        "\n",
        "5. **Ver Últimas 3 Líneas de un Archivo**  \n",
        "   - **Objetivo:** Mostrar las últimas 3 líneas del archivo `multilinea.txt`.  \n"
      ]
    },
    {
      "cell_type": "code",
      "execution_count": 10,
      "metadata": {
        "colab": {
          "base_uri": "https://localhost:8080/"
        },
        "id": "tJz1UMqTncmB",
        "outputId": "7ed992d6-0f9d-4d36-a5a3-0eb3ba820023"
      },
      "outputs": [
        {
          "name": "stdout",
          "output_type": "stream",
          "text": [
            "Línea 3\n",
            "Línea 4\n",
            "Línea 5\n"
          ]
        }
      ],
      "source": [
        "!tail -n 3 prueba/documentos/multilinea.txt"
      ]
    },
    {
      "cell_type": "markdown",
      "metadata": {
        "id": "ZOh8fe9Rm5hs"
      },
      "source": [
        "\n",
        "6. **Buscar una Palabra en los Archivos de Logs**  \n",
        "   - **Objetivo:** Buscar la palabra `error` en todos los archivos `.log`.  \n",
        "\n"
      ]
    },
    {
      "cell_type": "code",
      "execution_count": 11,
      "metadata": {
        "colab": {
          "base_uri": "https://localhost:8080/"
        },
        "id": "GIbWkuIXnc-S",
        "outputId": "1b383936-03fa-4525-ef1a-7f5e33d04069"
      },
      "outputs": [
        {
          "name": "stdout",
          "output_type": "stream",
          "text": [
            "prueba/logs/log1.log:Contiene la palabra error.\n",
            "prueba/logs/log2.log:Log sin errores.\n",
            "prueba/logs/log3.log:Más errores en el sistema.\n"
          ]
        }
      ],
      "source": [
        "!grep \"error\" prueba/logs/*.log"
      ]
    },
    {
      "cell_type": "markdown",
      "metadata": {
        "id": "oj-uixX1m6x9"
      },
      "source": [
        "\n",
        "7. **Redirigir Salida a un Archivo**  \n",
        "   - **Objetivo:** Guardar el listado de archivos del directorio `documentos` en un archivo llamado `lista.txt`.  \n"
      ]
    },
    {
      "cell_type": "code",
      "execution_count": 12,
      "metadata": {
        "id": "ed4RVgSPndOU"
      },
      "outputs": [],
      "source": [
        "!ls prueba/documentos > prueba/documentos/lista.txt"
      ]
    },
    {
      "cell_type": "markdown",
      "metadata": {
        "id": "U-f3cRwSm8lQ"
      },
      "source": [
        "\n",
        "\n",
        "8. **Cambiar Permisos a un Archivo**  \n",
        "   - **Objetivo:** Cambiar los permisos del archivo `lectura.txt` para que solo el propietario pueda leer y escribir.  \n"
      ]
    },
    {
      "cell_type": "code",
      "execution_count": 14,
      "metadata": {
        "id": "Ur_ly1q3neE0"
      },
      "outputs": [],
      "source": [
        "!chmod 600 prueba/documentos/lectura.txt"
      ]
    },
    {
      "cell_type": "markdown",
      "metadata": {
        "id": "wREyJIlxm9Xk"
      },
      "source": [
        "\n",
        "9. **Ver Variables de Entorno**  \n",
        "   - **Objetivo:** Mostrar todas las variables de entorno actuales.  \n",
        "\n",
        "\n"
      ]
    },
    {
      "cell_type": "code",
      "execution_count": 15,
      "metadata": {
        "colab": {
          "base_uri": "https://localhost:8080/"
        },
        "id": "8ItMvh6xneXH",
        "outputId": "d20def3e-60e7-4179-ebd2-934c1fb61e31"
      },
      "outputs": [
        {
          "name": "stdout",
          "output_type": "stream",
          "text": [
            "SHELL=/bin/bash\n",
            "NV_LIBCUBLAS_VERSION=12.5.3.2-1\n",
            "NVIDIA_VISIBLE_DEVICES=all\n",
            "COLAB_JUPYTER_TRANSPORT=ipc\n",
            "NV_NVML_DEV_VERSION=12.5.82-1\n",
            "NV_CUDNN_PACKAGE_NAME=libcudnn9-cuda-12\n",
            "CGROUP_MEMORY_EVENTS=/sys/fs/cgroup/memory.events /var/colab/cgroup/jupyter-children/memory.events\n",
            "NV_LIBNCCL_DEV_PACKAGE=libnccl-dev=2.22.3-1+cuda12.5\n",
            "NV_LIBNCCL_DEV_PACKAGE_VERSION=2.22.3-1\n",
            "VM_GCE_METADATA_HOST=169.254.169.253\n",
            "HOSTNAME=d66039cc849a\n",
            "LANGUAGE=en_US\n",
            "TBE_RUNTIME_ADDR=172.28.0.1:8011\n",
            "COLAB_TPU_1VM=\n",
            "GCE_METADATA_TIMEOUT=3\n",
            "NVIDIA_REQUIRE_CUDA=cuda>=12.5 brand=unknown,driver>=470,driver<471 brand=grid,driver>=470,driver<471 brand=tesla,driver>=470,driver<471 brand=nvidia,driver>=470,driver<471 brand=quadro,driver>=470,driver<471 brand=quadrortx,driver>=470,driver<471 brand=nvidiartx,driver>=470,driver<471 brand=vapps,driver>=470,driver<471 brand=vpc,driver>=470,driver<471 brand=vcs,driver>=470,driver<471 brand=vws,driver>=470,driver<471 brand=cloudgaming,driver>=470,driver<471 brand=unknown,driver>=535,driver<536 brand=grid,driver>=535,driver<536 brand=tesla,driver>=535,driver<536 brand=nvidia,driver>=535,driver<536 brand=quadro,driver>=535,driver<536 brand=quadrortx,driver>=535,driver<536 brand=nvidiartx,driver>=535,driver<536 brand=vapps,driver>=535,driver<536 brand=vpc,driver>=535,driver<536 brand=vcs,driver>=535,driver<536 brand=vws,driver>=535,driver<536 brand=cloudgaming,driver>=535,driver<536 brand=unknown,driver>=550,driver<551 brand=grid,driver>=550,driver<551 brand=tesla,driver>=550,driver<551 brand=nvidia,driver>=550,driver<551 brand=quadro,driver>=550,driver<551 brand=quadrortx,driver>=550,driver<551 brand=nvidiartx,driver>=550,driver<551 brand=vapps,driver>=550,driver<551 brand=vpc,driver>=550,driver<551 brand=vcs,driver>=550,driver<551 brand=vws,driver>=550,driver<551 brand=cloudgaming,driver>=550,driver<551\n",
            "NV_LIBCUBLAS_DEV_PACKAGE=libcublas-dev-12-5=12.5.3.2-1\n",
            "NV_NVTX_VERSION=12.5.82-1\n",
            "COLAB_JUPYTER_IP=172.28.0.12\n",
            "NV_CUDA_CUDART_DEV_VERSION=12.5.82-1\n",
            "NV_LIBCUSPARSE_VERSION=12.5.1.3-1\n",
            "COLAB_LANGUAGE_SERVER_PROXY_ROOT_URL=http://172.28.0.1:8013/\n",
            "NV_LIBNPP_VERSION=12.3.0.159-1\n",
            "NCCL_VERSION=2.22.3-1\n",
            "KMP_LISTEN_PORT=6000\n",
            "TF_FORCE_GPU_ALLOW_GROWTH=true\n",
            "ENV=/root/.bashrc\n",
            "PWD=/content\n",
            "COLAB_LANGUAGE_SERVER_PROXY_REQUEST_TIMEOUT=30s\n",
            "TBE_EPHEM_CREDS_ADDR=172.28.0.1:8009\n",
            "TBE_CREDS_ADDR=172.28.0.1:8008\n",
            "NV_CUDNN_PACKAGE=libcudnn9-cuda-12=9.2.1.18-1\n",
            "NVIDIA_DRIVER_CAPABILITIES=compute,utility\n",
            "COLAB_JUPYTER_TOKEN=\n",
            "LAST_FORCED_REBUILD=20250303\n",
            "NV_NVPROF_DEV_PACKAGE=cuda-nvprof-12-5=12.5.82-1\n",
            "NV_LIBNPP_PACKAGE=libnpp-12-5=12.3.0.159-1\n",
            "NV_LIBNCCL_DEV_PACKAGE_NAME=libnccl-dev\n",
            "TCLLIBPATH=/usr/share/tcltk/tcllib1.20\n",
            "NV_LIBCUBLAS_DEV_VERSION=12.5.3.2-1\n",
            "COLAB_KERNEL_MANAGER_PROXY_HOST=172.28.0.12\n",
            "NVIDIA_PRODUCT_NAME=CUDA\n",
            "NV_LIBCUBLAS_DEV_PACKAGE_NAME=libcublas-dev-12-5\n",
            "USE_AUTH_EPHEM=1\n",
            "NV_CUDA_CUDART_VERSION=12.5.82-1\n",
            "UV_PRERELEASE=if-necessary-or-explicit\n",
            "COLAB_WARMUP_DEFAULTS=1\n",
            "HOME=/root\n",
            "LANG=en_US.UTF-8\n",
            "COLUMNS=100\n",
            "CUDA_VERSION=12.5.1\n",
            "CLOUDSDK_CONFIG=/content/.config\n",
            "NV_LIBCUBLAS_PACKAGE=libcublas-12-5=12.5.3.2-1\n",
            "NV_CUDA_NSIGHT_COMPUTE_DEV_PACKAGE=cuda-nsight-compute-12-5=12.5.1-1\n",
            "UV_SYSTEM_PYTHON=true\n",
            "COLAB_RELEASE_TAG=release-colab_20250313-060108_RC00\n",
            "PYDEVD_USE_FRAME_EVAL=NO\n",
            "KMP_TARGET_PORT=9000\n",
            "CLICOLOR=1\n",
            "KMP_EXTRA_ARGS=--logtostderr --listen_host=172.28.0.12 --target_host=172.28.0.12 --tunnel_background_save_url=https://colab.research.google.com/tun/m/cc48301118ce562b961b3c22d803539adc1e0c19/m-s-15190mnce8nm8 --tunnel_background_save_delay=10s --tunnel_periodic_background_save_frequency=30m0s --enable_output_coalescing=true --output_coalescing_required=true --enable_kernel_event_logging=true \n",
            "UV_INSTALL_DIR=/usr/local/bin\n",
            "NV_LIBNPP_DEV_PACKAGE=libnpp-dev-12-5=12.3.0.159-1\n",
            "COLAB_LANGUAGE_SERVER_PROXY_LSP_DIRS=/datalab/web/pyright/typeshed-fallback/stdlib,/usr/local/lib/python3.10/dist-packages\n",
            "NV_LIBCUBLAS_PACKAGE_NAME=libcublas-12-5\n",
            "COLAB_KERNEL_MANAGER_PROXY_PORT=6000\n",
            "CLOUDSDK_PYTHON=python3\n",
            "NV_LIBNPP_DEV_VERSION=12.3.0.159-1\n",
            "ENABLE_DIRECTORYPREFETCHER=1\n",
            "NO_GCE_CHECK=False\n",
            "JPY_PARENT_PID=87\n",
            "PYTHONPATH=/env/python\n",
            "TERM=xterm-color\n",
            "NV_LIBCUSPARSE_DEV_VERSION=12.5.1.3-1\n",
            "GIT_PAGER=cat\n",
            "LIBRARY_PATH=/usr/local/cuda/lib64/stubs\n",
            "NV_CUDNN_VERSION=9.2.1.18-1\n",
            "SHLVL=0\n",
            "PAGER=cat\n",
            "COLAB_LANGUAGE_SERVER_PROXY=/usr/colab/bin/language_service\n",
            "NV_CUDA_LIB_VERSION=12.5.1-1\n",
            "NVARCH=x86_64\n",
            "NV_CUDNN_PACKAGE_DEV=libcudnn9-dev-cuda-12=9.2.1.18-1\n",
            "MPLBACKEND=module://matplotlib_inline.backend_inline\n",
            "NV_LIBNCCL_PACKAGE=libnccl2=2.22.3-1+cuda12.5\n",
            "LD_LIBRARY_PATH=/usr/local/nvidia/lib:/usr/local/nvidia/lib64\n",
            "COLAB_GPU=\n",
            "GCS_READ_CACHE_BLOCK_SIZE_MB=16\n",
            "NV_CUDA_NSIGHT_COMPUTE_VERSION=12.5.1-1\n",
            "NV_NVPROF_VERSION=12.5.82-1\n",
            "LC_ALL=en_US.UTF-8\n",
            "_PYVIZ_COMMS_INSTALLED=1\n",
            "COLAB_FILE_HANDLER_ADDR=localhost:3453\n",
            "PATH=/opt/bin:/usr/local/nvidia/bin:/usr/local/cuda/bin:/usr/local/sbin:/usr/local/bin:/usr/sbin:/usr/bin:/sbin:/bin:/tools/node/bin:/tools/google-cloud-sdk/bin\n",
            "NV_LIBNCCL_PACKAGE_NAME=libnccl2\n",
            "COLAB_DEBUG_ADAPTER_MUX_PATH=/usr/local/bin/dap_multiplexer\n",
            "NV_LIBNCCL_PACKAGE_VERSION=2.22.3-1\n",
            "PYTHONWARNINGS=ignore:::pip._internal.cli.base_command\n",
            "DEBIAN_FRONTEND=noninteractive\n",
            "COLAB_BACKEND_VERSION=next\n",
            "OLDPWD=/\n",
            "_=/usr/bin/env\n"
          ]
        }
      ],
      "source": [
        "!env"
      ]
    },
    {
      "cell_type": "markdown",
      "metadata": {
        "id": "GEuSr12Jm-f8"
      },
      "source": [
        "\n",
        "10. **Eliminar Archivos de Logs Antiguos**  \n",
        "    - **Objetivo:** Eliminar los archivos `.log` que tengan más de 7 días de antigüedad.  \n"
      ]
    },
    {
      "cell_type": "code",
      "execution_count": 17,
      "metadata": {
        "id": "QE9QquvJoBbh"
      },
      "outputs": [],
      "source": [
        "!find prueba/logs -name \"*.log\" -mtime +7 -exec rm {} \\;"
      ]
    },
    {
      "cell_type": "markdown",
      "metadata": {
        "id": "l3R8_2J6m_TQ"
      },
      "source": [
        "## Programación en Bash\n"
      ]
    },
    {
      "cell_type": "markdown",
      "metadata": {
        "id": "D7xb0LEJnCzn"
      },
      "source": [
        "1. **Script de Saludo**  \n",
        "   - **Objetivo:** Crear un script que pida el nombre del usuario y lo salude.  \n",
        "\n"
      ]
    },
    {
      "cell_type": "code",
      "execution_count": 18,
      "metadata": {
        "colab": {
          "base_uri": "https://localhost:8080/"
        },
        "id": "DLsQ4IjTnfn2",
        "outputId": "42b52fa4-2ce4-485b-8f9a-5f0fbe6ee235"
      },
      "outputs": [
        {
          "name": "stdout",
          "output_type": "stream",
          "text": [
            "Writing saludo.sh\n"
          ]
        }
      ],
      "source": [
        "%%writefile saludo.sh\n",
        "#!/bin/bash\n",
        "read -p \"¿Cuál es tu nombre? \" nombre\n",
        "echo \"¡Hola, $nombre!\""
      ]
    },
    {
      "cell_type": "code",
      "execution_count": 19,
      "metadata": {
        "colab": {
          "base_uri": "https://localhost:8080/"
        },
        "id": "FqDQkIqtoVU0",
        "outputId": "e7644663-da40-4ed2-9e5d-44e245b2785e"
      },
      "outputs": [
        {
          "name": "stdout",
          "output_type": "stream",
          "text": [
            "¿Cuál es tu nombre? francisco\n",
            "¡Hola, francisco!\n"
          ]
        }
      ],
      "source": [
        "!chmod +x saludo.sh\n",
        "!./saludo.sh"
      ]
    },
    {
      "cell_type": "markdown",
      "metadata": {
        "id": "iJe_tZg1nFFB"
      },
      "source": [
        "\n",
        "2. **Contar Archivos en un Directorio**  \n",
        "   - **Objetivo:** Contar cuántos archivos hay en el directorio `documentos`.  \n"
      ]
    },
    {
      "cell_type": "code",
      "execution_count": 20,
      "metadata": {
        "colab": {
          "base_uri": "https://localhost:8080/"
        },
        "id": "r7eZXI9HngDA",
        "outputId": "c252349a-e352-4744-d7d9-d480b4ec5ddf"
      },
      "outputs": [
        {
          "name": "stdout",
          "output_type": "stream",
          "text": [
            "Writing contar_archivos.sh\n"
          ]
        }
      ],
      "source": [
        "%%writefile contar_archivos.sh\n",
        "#!/bin/bash\n",
        "total=$(ls prueba/documentos | wc -l)\n",
        "echo \"Hay $total archivos en el directorio documentos.\""
      ]
    },
    {
      "cell_type": "code",
      "execution_count": 21,
      "metadata": {
        "colab": {
          "base_uri": "https://localhost:8080/"
        },
        "id": "PzSMztRPocCU",
        "outputId": "a3d40f77-f21f-4d67-8506-40f991399bb9"
      },
      "outputs": [
        {
          "name": "stdout",
          "output_type": "stream",
          "text": [
            "Hay 9 archivos en el directorio documentos.\n"
          ]
        }
      ],
      "source": [
        "!chmod +x contar_archivos.sh\n",
        "!./contar_archivos.sh"
      ]
    },
    {
      "cell_type": "markdown",
      "metadata": {
        "id": "CF9_9fU1nHXp"
      },
      "source": [
        "\n",
        "\n",
        "3. **Verificar si un Archivo Existe**  \n",
        "   - **Objetivo:** Verificar si el archivo `archivo1.txt` existe.  \n"
      ]
    },
    {
      "cell_type": "code",
      "execution_count": 22,
      "metadata": {
        "colab": {
          "base_uri": "https://localhost:8080/"
        },
        "id": "fqXOzIO1ngat",
        "outputId": "ca50a6c0-c713-4d3a-ebc4-a7963842c4f2"
      },
      "outputs": [
        {
          "name": "stdout",
          "output_type": "stream",
          "text": [
            "Writing verificar_archivo.sh\n"
          ]
        }
      ],
      "source": [
        "%%writefile verificar_archivo.sh\n",
        "#!/bin/bash\n",
        "if [ -f \"prueba/documentos/archivo1.txt\" ]; then\n",
        "    echo \"El archivo existe.\"\n",
        "else\n",
        "    echo \"El archivo no existe.\"\n",
        "fi"
      ]
    },
    {
      "cell_type": "code",
      "execution_count": 23,
      "metadata": {
        "colab": {
          "base_uri": "https://localhost:8080/"
        },
        "id": "njHW6MHJogG0",
        "outputId": "645ffbaa-328c-4e87-95de-1c41863c48a9"
      },
      "outputs": [
        {
          "name": "stdout",
          "output_type": "stream",
          "text": [
            "El archivo existe.\n"
          ]
        }
      ],
      "source": [
        "!chmod +x verificar_archivo.sh\n",
        "!./verificar_archivo.sh"
      ]
    },
    {
      "cell_type": "markdown",
      "metadata": {
        "id": "1JmZFBICnKJ6"
      },
      "source": [
        "\n",
        "4. **Sumar Dos Números**  \n",
        "   - **Objetivo:** Solicitar dos números y mostrar su suma.  \n",
        "\n"
      ]
    },
    {
      "cell_type": "code",
      "execution_count": 24,
      "metadata": {
        "colab": {
          "base_uri": "https://localhost:8080/"
        },
        "id": "ZVUVJdYGngtd",
        "outputId": "e0f25af3-77e6-42e9-f050-1e5d26c59fb4"
      },
      "outputs": [
        {
          "name": "stdout",
          "output_type": "stream",
          "text": [
            "Writing suma.sh\n"
          ]
        }
      ],
      "source": [
        "%%writefile suma.sh\n",
        "#!/bin/bash\n",
        "read -p \"Ingresa el primer número: \" num1\n",
        "read -p \"Ingresa el segundo número: \" num2\n",
        "echo \"La suma es: $((num1 + num2))\""
      ]
    },
    {
      "cell_type": "code",
      "execution_count": 25,
      "metadata": {
        "colab": {
          "base_uri": "https://localhost:8080/"
        },
        "id": "rzHw2XbBojXD",
        "outputId": "b51fffc3-17f6-4b3e-dc9f-98a136098a40"
      },
      "outputs": [
        {
          "name": "stdout",
          "output_type": "stream",
          "text": [
            "Ingresa el primer número: 4\n",
            "Ingresa el segundo número: 5\n",
            "La suma es: 9\n"
          ]
        }
      ],
      "source": [
        "!chmod +x suma.sh\n",
        "!./suma.sh"
      ]
    },
    {
      "cell_type": "markdown",
      "metadata": {
        "id": "_0JTxl8rnLC7"
      },
      "source": [
        "\n",
        "5. **Listar Archivos Usando un Bucle For**  \n",
        "   - **Objetivo:** Listar cada archivo en el directorio `documentos` utilizando un bucle.  \n",
        "\n"
      ]
    },
    {
      "cell_type": "code",
      "execution_count": 26,
      "metadata": {
        "colab": {
          "base_uri": "https://localhost:8080/"
        },
        "id": "XJ--8RwHnhCj",
        "outputId": "e77b6302-f195-430d-a51b-2a0f97626150"
      },
      "outputs": [
        {
          "name": "stdout",
          "output_type": "stream",
          "text": [
            "Writing listar_archivos.sh\n"
          ]
        }
      ],
      "source": [
        "%%writefile listar_archivos.sh\n",
        "#!/bin/bash\n",
        "for archivo in prueba/documentos/*; do\n",
        "    echo \"Archivo: $archivo\"\n",
        "done"
      ]
    },
    {
      "cell_type": "code",
      "execution_count": 27,
      "metadata": {
        "colab": {
          "base_uri": "https://localhost:8080/"
        },
        "id": "IZ6L8d1EopH_",
        "outputId": "511af1ea-6631-4f46-aed8-e8c32cc44016"
      },
      "outputs": [
        {
          "name": "stdout",
          "output_type": "stream",
          "text": [
            "Archivo: prueba/documentos/archivo1.txt\n",
            "Archivo: prueba/documentos/archivo2.txt\n",
            "Archivo: prueba/documentos/datos.csv\n",
            "Archivo: prueba/documentos/imagen.jpg\n",
            "Archivo: prueba/documentos/lectura.txt\n",
            "Archivo: prueba/documentos/lista.txt\n",
            "Archivo: prueba/documentos/multilinea.txt\n",
            "Archivo: prueba/documentos/script.sh\n",
            "Archivo: prueba/documentos/vacio.txt\n"
          ]
        }
      ],
      "source": [
        "!chmod +x listar_archivos.sh\n",
        "!./listar_archivos.sh"
      ]
    },
    {
      "cell_type": "markdown",
      "metadata": {
        "id": "dnYAEpIjnL2m"
      },
      "source": [
        "\n",
        "6. **Mostrar un Menú de Opciones**  \n",
        "   - **Objetivo:** Crear un menú en Bash que permita seleccionar una opción.  \n"
      ]
    },
    {
      "cell_type": "code",
      "execution_count": 28,
      "metadata": {
        "colab": {
          "base_uri": "https://localhost:8080/"
        },
        "id": "LQVrFKiTniXD",
        "outputId": "898518a6-1964-422c-b19a-2f26de7935b6"
      },
      "outputs": [
        {
          "name": "stdout",
          "output_type": "stream",
          "text": [
            "Writing menu.sh\n"
          ]
        }
      ],
      "source": [
        "%%writefile menu.sh\n",
        "#!/bin/bash\n",
        "echo \"Selecciona una opción:\"\n",
        "echo \"1. Mostrar archivos\"\n",
        "echo \"2. Salir\"\n",
        "read -p \"Opción: \" opcion\n",
        "\n",
        "case $opcion in\n",
        "    1) ls prueba/documentos;;\n",
        "    2) echo \"Saliendo...\";;\n",
        "    *) echo \"Opción no válida\";;\n",
        "esac"
      ]
    },
    {
      "cell_type": "code",
      "execution_count": 29,
      "metadata": {
        "colab": {
          "base_uri": "https://localhost:8080/"
        },
        "id": "yJoWXDlGosrb",
        "outputId": "6d0fc109-1801-48d4-cb89-10e2cabac4fe"
      },
      "outputs": [
        {
          "name": "stdout",
          "output_type": "stream",
          "text": [
            "Selecciona una opción:\n",
            "1. Mostrar archivos\n",
            "2. Salir\n",
            "Opción: 1\n",
            "archivo1.txt  datos.csv   lectura.txt  multilinea.txt  vacio.txt\n",
            "archivo2.txt  imagen.jpg  lista.txt    script.sh\n"
          ]
        }
      ],
      "source": [
        "!chmod +x menu.sh\n",
        "!./menu.sh"
      ]
    },
    {
      "cell_type": "markdown",
      "metadata": {
        "id": "EO8pioBZnMmU"
      },
      "source": [
        "\n",
        "7. **Contar Archivos `.txt`**  \n",
        "   - **Objetivo:** Contar cuántos archivos `.txt` hay en `documentos`.  \n"
      ]
    },
    {
      "cell_type": "code",
      "execution_count": 30,
      "metadata": {
        "colab": {
          "base_uri": "https://localhost:8080/"
        },
        "id": "8B1IvTZ3njTZ",
        "outputId": "c4070ab1-7049-49b5-a85f-f98c15d63d91"
      },
      "outputs": [
        {
          "name": "stdout",
          "output_type": "stream",
          "text": [
            "Writing contar_txt.sh\n"
          ]
        }
      ],
      "source": [
        "%%writefile contar_txt.sh\n",
        "#!/bin/bash\n",
        "total=$(ls prueba/documentos/*.txt 2>/dev/null | wc -l)\n",
        "echo \"Hay $total archivos .txt.\""
      ]
    },
    {
      "cell_type": "code",
      "execution_count": 31,
      "metadata": {
        "colab": {
          "base_uri": "https://localhost:8080/"
        },
        "id": "lnAR0-YpoxkU",
        "outputId": "671a5704-e152-4e39-f1e0-a151f43afde1"
      },
      "outputs": [
        {
          "name": "stdout",
          "output_type": "stream",
          "text": [
            "Hay 6 archivos .txt.\n"
          ]
        }
      ],
      "source": [
        "!chmod +x contar_txt.sh\n",
        "!./contar_txt.sh"
      ]
    },
    {
      "cell_type": "markdown",
      "metadata": {
        "id": "tqwp6hl0nOS9"
      },
      "source": [
        "\n",
        "8. **Crear Archivos en un Bucle**  \n",
        "   - **Objetivo:** Crear cinco archivos de prueba dentro del directorio `backup`.  \n",
        "\n",
        "   "
      ]
    },
    {
      "cell_type": "code",
      "execution_count": 32,
      "metadata": {
        "colab": {
          "base_uri": "https://localhost:8080/"
        },
        "id": "bVmHEPxgnjo1",
        "outputId": "ff7e8ceb-fac4-4b9c-ebf9-b328ae4d07e7"
      },
      "outputs": [
        {
          "name": "stdout",
          "output_type": "stream",
          "text": [
            "Writing crear_archivos.sh\n"
          ]
        }
      ],
      "source": [
        "%%writefile crear_archivos.sh\n",
        "#!/bin/bash\n",
        "for i in {1..5}; do\n",
        "    touch prueba/backup/backup$i.txt\n",
        "done\n",
        "echo \"Archivos backup creados.\""
      ]
    },
    {
      "cell_type": "code",
      "execution_count": 33,
      "metadata": {
        "colab": {
          "base_uri": "https://localhost:8080/"
        },
        "id": "W-HO2Cl3o2CX",
        "outputId": "f674a97e-4b2a-4050-f643-e8ee43d5d57d"
      },
      "outputs": [
        {
          "name": "stdout",
          "output_type": "stream",
          "text": [
            "Archivos backup creados.\n"
          ]
        }
      ],
      "source": [
        "!chmod +x crear_archivos.sh\n",
        "!./crear_archivos.sh"
      ]
    },
    {
      "cell_type": "markdown",
      "metadata": {
        "id": "KyE8NNvynNht"
      },
      "source": [
        "\n",
        "\n",
        "9. **Verificar si un Número es Par o Impar**  \n",
        "   - **Objetivo:** Solicitar un número y verificar si es par o impar.  \n",
        "\n"
      ]
    },
    {
      "cell_type": "code",
      "execution_count": 34,
      "metadata": {
        "colab": {
          "base_uri": "https://localhost:8080/"
        },
        "id": "pfKBKlWtnj9u",
        "outputId": "d4a0748b-cd8d-4c53-85db-5d54387f0d51"
      },
      "outputs": [
        {
          "name": "stdout",
          "output_type": "stream",
          "text": [
            "Writing par_impar.sh\n"
          ]
        }
      ],
      "source": [
        "%%writefile par_impar.sh\n",
        "#!/bin/bash\n",
        "read -p \"Introduce un número: \" num\n",
        "if [ $((num % 2)) -eq 0 ]; then\n",
        "    echo \"El número es par.\"\n",
        "else\n",
        "    echo \"El número es impar.\"\n",
        "fi"
      ]
    },
    {
      "cell_type": "code",
      "execution_count": 35,
      "metadata": {
        "colab": {
          "base_uri": "https://localhost:8080/"
        },
        "id": "wPNmCgwVo5wu",
        "outputId": "49835afe-9a5d-4db8-9adc-e03ca8ad7369"
      },
      "outputs": [
        {
          "name": "stdout",
          "output_type": "stream",
          "text": [
            "Introduce un número: 4\n",
            "El número es par.\n"
          ]
        }
      ],
      "source": [
        "!chmod +x par_impar.sh\n",
        "!./par_impar.sh"
      ]
    },
    {
      "cell_type": "markdown",
      "metadata": {
        "id": "YJQA9a76nPRn"
      },
      "source": [
        "\n",
        "10. **Realizar un Backup de Directorio**  \n",
        "    - **Objetivo:** Copiar el contenido del directorio `documentos` a\n",
        "\n"
      ]
    },
    {
      "cell_type": "code",
      "execution_count": 36,
      "metadata": {
        "colab": {
          "base_uri": "https://localhost:8080/"
        },
        "id": "paelsaI6nkSk",
        "outputId": "27822b18-b10f-46e2-986c-56d88cd703ca"
      },
      "outputs": [
        {
          "name": "stdout",
          "output_type": "stream",
          "text": [
            "Writing backup.sh\n"
          ]
        }
      ],
      "source": [
        "%%writefile backup.sh\n",
        "#!/bin/bash\n",
        "cp -r prueba/documentos/* prueba/backup/\n",
        "echo \"Backup realizado correctamente.\"\n"
      ]
    },
    {
      "cell_type": "code",
      "execution_count": 37,
      "metadata": {
        "colab": {
          "base_uri": "https://localhost:8080/"
        },
        "id": "6wIWqBpYpAt-",
        "outputId": "6bc51f5d-b275-4946-fee4-28595c99ae9c"
      },
      "outputs": [
        {
          "name": "stdout",
          "output_type": "stream",
          "text": [
            "Backup realizado correctamente.\n"
          ]
        }
      ],
      "source": [
        "!chmod +x backup.sh\n",
        "!./backup.sh"
      ]
    }
  ],
  "metadata": {
    "colab": {
      "provenance": []
    },
    "kernelspec": {
      "display_name": "Python 3",
      "name": "python3"
    },
    "language_info": {
      "name": "python"
    }
  },
  "nbformat": 4,
  "nbformat_minor": 0
}
